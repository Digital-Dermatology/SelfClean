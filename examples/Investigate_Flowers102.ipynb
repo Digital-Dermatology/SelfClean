{
 "cells": [
  {
   "cell_type": "markdown",
   "id": "d3409044",
   "metadata": {},
   "source": [
    "# Investigate the Quality of Flower102"
   ]
  },
  {
   "cell_type": "code",
   "execution_count": null,
   "id": "bb586111",
   "metadata": {},
   "outputs": [],
   "source": [
    "#!pip install torch==2.0.0 torchvision scienceplots einops torchinfo randomname seaborn -q"
   ]
  },
  {
   "cell_type": "code",
   "execution_count": null,
   "id": "493f418a",
   "metadata": {},
   "outputs": [],
   "source": [
    "import torch\n",
    "from torchvision import datasets\n",
    "\n",
    "# TODO: replace with package after public on PyPi\n",
    "import sys\n",
    "\n",
    "sys.path.append(\"../\")\n",
    "\n",
    "from src.cleaner.selfclean import PretrainingType, SelfClean"
   ]
  },
  {
   "cell_type": "code",
   "execution_count": null,
   "id": "cbd9fb72",
   "metadata": {},
   "outputs": [],
   "source": [
    "dataset_splits = []\n",
    "for split in [\"train\", \"val\", \"test\"]:\n",
    "    dataset_splits.append(datasets.Flowers102(root=\"./tmp\", download=True, split=split))\n",
    "dataset = torch.utils.data.ConcatDataset(dataset_splits)"
   ]
  },
  {
   "cell_type": "code",
   "execution_count": null,
   "id": "9f7d6306",
   "metadata": {},
   "outputs": [],
   "source": [
    "selfclean = SelfClean(\n",
    "    auto_cleaning=True,\n",
    "    plot_distribution=True,\n",
    "    plot_top_N=7,\n",
    ")\n",
    "out_dict = selfclean.run_on_dataset(\n",
    "    dataset=dataset,\n",
    "    pretraining_type=PretrainingType.DINO,\n",
    "    num_workers=24,\n",
    "    epochs=100,\n",
    "    batch_size=16,\n",
    ")"
   ]
  },
  {
   "cell_type": "code",
   "execution_count": null,
   "id": "b355f2c3",
   "metadata": {},
   "outputs": [],
   "source": [
    "# TODO: plot dups, irr, lbls individually"
   ]
  },
  {
   "cell_type": "code",
   "execution_count": null,
   "id": "527efd4c",
   "metadata": {},
   "outputs": [],
   "source": []
  }
 ],
 "metadata": {
  "kernelspec": {
   "display_name": "Python 3 (ipykernel)",
   "language": "python",
   "name": "python3"
  },
  "language_info": {
   "codemirror_mode": {
    "name": "ipython",
    "version": 3
   },
   "file_extension": ".py",
   "mimetype": "text/x-python",
   "name": "python",
   "nbconvert_exporter": "python",
   "pygments_lexer": "ipython3"
  }
 },
 "nbformat": 4,
 "nbformat_minor": 5
}
