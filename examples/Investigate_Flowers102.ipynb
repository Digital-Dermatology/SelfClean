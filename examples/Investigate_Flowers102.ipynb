{
 "cells": [
  {
   "cell_type": "markdown",
   "id": "d3409044",
   "metadata": {},
   "source": [
    "# Investigate the Quality of Flower102"
   ]
  },
  {
   "cell_type": "code",
   "execution_count": 3,
   "id": "bb586111",
   "metadata": {},
   "outputs": [
    {
     "name": "stdout",
     "output_type": "stream",
     "text": [
      "\r\n",
      "\u001b[1m[\u001b[0m\u001b[34;49mnotice\u001b[0m\u001b[1;39;49m]\u001b[0m\u001b[39;49m A new release of pip is available: \u001b[0m\u001b[31;49m23.3.1\u001b[0m\u001b[39;49m -> \u001b[0m\u001b[32;49m24.0\u001b[0m\r\n",
      "\u001b[1m[\u001b[0m\u001b[34;49mnotice\u001b[0m\u001b[1;39;49m]\u001b[0m\u001b[39;49m To update, run: \u001b[0m\u001b[32;49mpython3.9 -m pip install --upgrade pip\u001b[0m\r\n"
     ]
    }
   ],
   "source": [
    "!pip install torchvision scienceplots einops torchinfo randomname seaborn -q"
   ]
  },
  {
   "cell_type": "code",
   "execution_count": 4,
   "id": "493f418a",
   "metadata": {},
   "outputs": [
    {
     "name": "stderr",
     "output_type": "stream",
     "text": [
      "/home/fabian/Documents/_git/GitHub/digital-dermatology/SelfClean/examples/../ssl_library/src/utils/metrics.py:13: SyntaxWarning: \"is\" with a literal. Did you mean \"==\"?\n",
      "  output=mask.int() if mode is \"binary\" else mask.argmax(dim=1).int(),\n",
      "/home/fabian/Documents/_git/GitHub/digital-dermatology/SelfClean/examples/../ssl_library/src/utils/metrics.py:17: SyntaxWarning: \"is\" with a literal. Did you mean \"==\"?\n",
      "  threshold=0.5 if mode is \"binary\" else None,\n"
     ]
    }
   ],
   "source": [
    "from torchvision import datasets\n",
    "\n",
    "# TODO: replace with package after public on PyPi\n",
    "import sys\n",
    "\n",
    "sys.path.append(\"../\")\n",
    "\n",
    "from src.cleaner.selfclean import PretrainingType, SelfClean"
   ]
  },
  {
   "cell_type": "code",
   "execution_count": 5,
   "id": "69140085",
   "metadata": {},
   "outputs": [
    {
     "name": "stdout",
     "output_type": "stream",
     "text": [
      "Downloading https://thor.robots.ox.ac.uk/datasets/flowers-102/102flowers.tgz to tmp/flowers-102/102flowers.tgz\n"
     ]
    },
    {
     "data": {
      "application/vnd.jupyter.widget-view+json": {
       "model_id": "ac1e3cca382a40c6b79c267463aee6ae",
       "version_major": 2,
       "version_minor": 0
      },
      "text/plain": [
       "  0%|          | 0/344862509 [00:00<?, ?it/s]"
      ]
     },
     "metadata": {},
     "output_type": "display_data"
    },
    {
     "name": "stdout",
     "output_type": "stream",
     "text": [
      "Extracting tmp/flowers-102/102flowers.tgz to tmp/flowers-102\n",
      "Downloading https://thor.robots.ox.ac.uk/datasets/flowers-102/imagelabels.mat to tmp/flowers-102/imagelabels.mat\n"
     ]
    },
    {
     "data": {
      "application/vnd.jupyter.widget-view+json": {
       "model_id": "9fd9a12a99c54b839e9752e49d4e930c",
       "version_major": 2,
       "version_minor": 0
      },
      "text/plain": [
       "  0%|          | 0/502 [00:00<?, ?it/s]"
      ]
     },
     "metadata": {},
     "output_type": "display_data"
    },
    {
     "name": "stdout",
     "output_type": "stream",
     "text": [
      "Downloading https://thor.robots.ox.ac.uk/datasets/flowers-102/setid.mat to tmp/flowers-102/setid.mat\n"
     ]
    },
    {
     "data": {
      "application/vnd.jupyter.widget-view+json": {
       "model_id": "16f097f598aa4ef6bb4c09fd2a3dad02",
       "version_major": 2,
       "version_minor": 0
      },
      "text/plain": [
       "  0%|          | 0/14989 [00:00<?, ?it/s]"
      ]
     },
     "metadata": {},
     "output_type": "display_data"
    }
   ],
   "source": [
    "dataset = datasets.Flowers102(root='./tmp', download=True)"
   ]
  },
  {
   "cell_type": "code",
   "execution_count": 6,
   "id": "9f7d6306",
   "metadata": {},
   "outputs": [
    {
     "name": "stdout",
     "output_type": "stream",
     "text": [
      "Will run the code on one GPU.\n",
      "STARTUP | distributed init (rank 0): env://\n"
     ]
    },
    {
     "name": "stderr",
     "output_type": "stream",
     "text": [
      "/home/fabian/.local/lib/python3.9/site-packages/torchvision/transforms/transforms.py:899: UserWarning: Argument 'interpolation' of type int is deprecated since 0.13 and will be removed in 0.15. Please use InterpolationMode enum.\n",
      "  warnings.warn(\n"
     ]
    },
    {
     "name": "stdout",
     "output_type": "stream",
     "text": [
      "Running on: cuda\n",
      "Run directory of model: /home/fabian/Documents/_git/GitHub/digital-dermatology/SelfClean/examples/DINO-Flowers102-wood-meat\n",
      "Data loaded: there are 1020 train images, 32 batches, and a batch size of 4.\n",
      "Single GPU detected, model will run on single instance.\n",
      "Single GPU detected, model will run on single instance.\n",
      "Student and Teacher are built: they are both vit_tiny network.\n",
      "Pre-trained weights not found. Training from scratch.\n"
     ]
    },
    {
     "name": "stderr",
     "output_type": "stream",
     "text": [
      "Epoch: 1, Train loss: 8.328475, Train stud/teach acc: 0.1786: 100%|█████████████████████████████████████████████████████████████████████████████████████████████████████████| 32/32 [00:26<00:00,  1.22it/s]\n",
      "Epoch: 7, Train loss: 8.181155, Train stud/teach acc: 0.0000: 100%|█████████████████████████████████████████████████████████████████████████████████████████████████████████| 32/32 [00:20<00:00,  1.55it/s]\n",
      "Epoch: 8, Train loss: 8.120199, Train stud/teach acc: 0.1071: 100%|█████████████████████████████████████████████████████████████████████████████████████████████████████████| 32/32 [00:20<00:00,  1.54it/s]\n",
      "Epoch: 9, Train loss: 8.061924, Train stud/teach acc: 0.1786: 100%|█████████████████████████████████████████████████████████████████████████████████████████████████████████| 32/32 [00:20<00:00,  1.53it/s]\n",
      "Epoch: 10, Train loss: 8.025546, Train stud/teach acc: 0.3571: 100%|████████████████████████████████████████████████████████████████████████████████████████████████████████| 32/32 [00:20<00:00,  1.54it/s]\n",
      "Epoch: 11, Train loss: 8.039332, Train stud/teach acc: 0.0000: 100%|████████████████████████████████████████████████████████████████████████████████████████████████████████| 32/32 [00:20<00:00,  1.53it/s]\n",
      "Epoch: 12, Train loss: 8.093503, Train stud/teach acc: 0.0714: 100%|████████████████████████████████████████████████████████████████████████████████████████████████████████| 32/32 [00:20<00:00,  1.53it/s]\n",
      "Epoch: 13, Train loss: 7.861692, Train stud/teach acc: 0.2500: 100%|████████████████████████████████████████████████████████████████████████████████████████████████████████| 32/32 [00:20<00:00,  1.53it/s]\n",
      "Epoch: 14, Train loss: 7.732294, Train stud/teach acc: 0.2857: 100%|████████████████████████████████████████████████████████████████████████████████████████████████████████| 32/32 [00:20<00:00,  1.56it/s]\n",
      "Epoch: 15, Train loss: 8.007334, Train stud/teach acc: 0.2500: 100%|████████████████████████████████████████████████████████████████████████████████████████████████████████| 32/32 [00:20<00:00,  1.55it/s]\n",
      "Epoch: 16, Train loss: 7.901094, Train stud/teach acc: 0.0000: 100%|████████████████████████████████████████████████████████████████████████████████████████████████████████| 32/32 [00:20<00:00,  1.56it/s]\n",
      "Epoch: 17, Train loss: 7.913465, Train stud/teach acc: 0.2500: 100%|████████████████████████████████████████████████████████████████████████████████████████████████████████| 32/32 [00:20<00:00,  1.54it/s]\n",
      "Epoch: 18, Train loss: 7.601495, Train stud/teach acc: 0.0714: 100%|████████████████████████████████████████████████████████████████████████████████████████████████████████| 32/32 [00:20<00:00,  1.56it/s]\n",
      "Epoch: 19, Train loss: 8.002951, Train stud/teach acc: 0.2143: 100%|████████████████████████████████████████████████████████████████████████████████████████████████████████| 32/32 [00:20<00:00,  1.53it/s]\n",
      "Epoch: 20, Train loss: 7.842275, Train stud/teach acc: 0.0714: 100%|████████████████████████████████████████████████████████████████████████████████████████████████████████| 32/32 [00:20<00:00,  1.55it/s]\n",
      "Epoch: 21, Train loss: 7.794717, Train stud/teach acc: 0.0714: 100%|████████████████████████████████████████████████████████████████████████████████████████████████████████| 32/32 [00:20<00:00,  1.56it/s]\n",
      "Epoch: 22, Train loss: 7.868104, Train stud/teach acc: 0.0357: 100%|████████████████████████████████████████████████████████████████████████████████████████████████████████| 32/32 [00:21<00:00,  1.52it/s]\n",
      "Epoch: 23, Train loss: 7.691778, Train stud/teach acc: 0.0357: 100%|████████████████████████████████████████████████████████████████████████████████████████████████████████| 32/32 [00:20<00:00,  1.55it/s]\n",
      "Epoch: 24, Train loss: 7.462488, Train stud/teach acc: 0.0714: 100%|████████████████████████████████████████████████████████████████████████████████████████████████████████| 32/32 [00:20<00:00,  1.56it/s]\n",
      "Epoch: 25, Train loss: 7.821674, Train stud/teach acc: 0.1071: 100%|████████████████████████████████████████████████████████████████████████████████████████████████████████| 32/32 [00:20<00:00,  1.54it/s]\n",
      "Epoch: 26, Train loss: 7.570386, Train stud/teach acc: 0.0357: 100%|████████████████████████████████████████████████████████████████████████████████████████████████████████| 32/32 [00:20<00:00,  1.55it/s]\n",
      "Epoch: 27, Train loss: 7.576166, Train stud/teach acc: 0.0000: 100%|████████████████████████████████████████████████████████████████████████████████████████████████████████| 32/32 [00:20<00:00,  1.54it/s]\n",
      "Epoch: 28, Train loss: 7.714487, Train stud/teach acc: 0.1786: 100%|████████████████████████████████████████████████████████████████████████████████████████████████████████| 32/32 [00:20<00:00,  1.55it/s]\n",
      "Epoch: 29, Train loss: 7.722349, Train stud/teach acc: 0.0000: 100%|████████████████████████████████████████████████████████████████████████████████████████████████████████| 32/32 [00:20<00:00,  1.55it/s]\n",
      "Epoch: 30, Train loss: 7.830364, Train stud/teach acc: 0.0000: 100%|████████████████████████████████████████████████████████████████████████████████████████████████████████| 32/32 [00:20<00:00,  1.56it/s]\n",
      "Epoch: 31, Train loss: 7.711112, Train stud/teach acc: 0.2143: 100%|████████████████████████████████████████████████████████████████████████████████████████████████████████| 32/32 [00:21<00:00,  1.51it/s]\n",
      "Epoch: 32, Train loss: 7.937025, Train stud/teach acc: 0.1071: 100%|████████████████████████████████████████████████████████████████████████████████████████████████████████| 32/32 [00:21<00:00,  1.52it/s]\n",
      "Epoch: 33, Train loss: 7.789028, Train stud/teach acc: 0.0357: 100%|████████████████████████████████████████████████████████████████████████████████████████████████████████| 32/32 [00:20<00:00,  1.53it/s]\n",
      "Epoch: 34, Train loss: 7.947851, Train stud/teach acc: 0.1786: 100%|████████████████████████████████████████████████████████████████████████████████████████████████████████| 32/32 [00:20<00:00,  1.54it/s]\n",
      "Epoch: 35, Train loss: 7.472913, Train stud/teach acc: 0.0357: 100%|████████████████████████████████████████████████████████████████████████████████████████████████████████| 32/32 [00:20<00:00,  1.53it/s]\n",
      "Epoch: 36, Train loss: 7.926109, Train stud/teach acc: 0.0357: 100%|████████████████████████████████████████████████████████████████████████████████████████████████████████| 32/32 [00:20<00:00,  1.54it/s]\n",
      "Epoch: 37, Train loss: 7.731241, Train stud/teach acc: 0.1071: 100%|████████████████████████████████████████████████████████████████████████████████████████████████████████| 32/32 [00:20<00:00,  1.55it/s]\n",
      "Epoch: 38, Train loss: 7.762573, Train stud/teach acc: 0.0000: 100%|████████████████████████████████████████████████████████████████████████████████████████████████████████| 32/32 [00:20<00:00,  1.53it/s]\n",
      "Epoch: 39, Train loss: 7.665332, Train stud/teach acc: 0.2143: 100%|████████████████████████████████████████████████████████████████████████████████████████████████████████| 32/32 [00:20<00:00,  1.54it/s]\n",
      "Epoch: 40, Train loss: 7.851167, Train stud/teach acc: 0.0357: 100%|████████████████████████████████████████████████████████████████████████████████████████████████████████| 32/32 [00:20<00:00,  1.53it/s]\n",
      "Epoch: 41, Train loss: 7.836399, Train stud/teach acc: 0.0000: 100%|████████████████████████████████████████████████████████████████████████████████████████████████████████| 32/32 [00:20<00:00,  1.55it/s]\n",
      "Epoch: 42, Train loss: 7.804358, Train stud/teach acc: 0.0000: 100%|████████████████████████████████████████████████████████████████████████████████████████████████████████| 32/32 [00:20<00:00,  1.55it/s]\n",
      "Epoch: 43, Train loss: 7.688432, Train stud/teach acc: 0.0000: 100%|████████████████████████████████████████████████████████████████████████████████████████████████████████| 32/32 [00:20<00:00,  1.56it/s]\n",
      "Epoch: 44, Train loss: 7.852659, Train stud/teach acc: 0.0357: 100%|████████████████████████████████████████████████████████████████████████████████████████████████████████| 32/32 [00:20<00:00,  1.55it/s]\n"
     ]
    },
    {
     "name": "stderr",
     "output_type": "stream",
     "text": [
      "Epoch: 45, Train loss: 7.691669, Train stud/teach acc: 0.0000: 100%|████████████████████████████████████████████████████████████████████████████████████████████████████████| 32/32 [00:21<00:00,  1.52it/s]\n",
      "Epoch: 46, Train loss: 7.871750, Train stud/teach acc: 0.1786: 100%|████████████████████████████████████████████████████████████████████████████████████████████████████████| 32/32 [00:20<00:00,  1.55it/s]\n",
      "Epoch: 47, Train loss: 7.672338, Train stud/teach acc: 0.1429: 100%|████████████████████████████████████████████████████████████████████████████████████████████████████████| 32/32 [00:20<00:00,  1.56it/s]\n",
      "Epoch: 48, Train loss: 7.748367, Train stud/teach acc: 0.1786: 100%|████████████████████████████████████████████████████████████████████████████████████████████████████████| 32/32 [00:20<00:00,  1.53it/s]\n",
      "Epoch: 49, Train loss: 7.826695, Train stud/teach acc: 0.1071: 100%|████████████████████████████████████████████████████████████████████████████████████████████████████████| 32/32 [00:20<00:00,  1.54it/s]\n",
      "Epoch: 50, Train loss: 7.804374, Train stud/teach acc: 0.2143: 100%|████████████████████████████████████████████████████████████████████████████████████████████████████████| 32/32 [00:20<00:00,  1.55it/s]\n"
     ]
    },
    {
     "name": "stdout",
     "output_type": "stream",
     "text": [
      "Saving checkpoint: /home/fabian/Documents/_git/GitHub/digital-dermatology/SelfClean/examples/DINO-Flowers102-wood-meat/checkpoints/checkpoint-epoch50.pth ...\n",
      "Saving current best: model_best.pth ...\n"
     ]
    },
    {
     "name": "stderr",
     "output_type": "stream",
     "text": [
      "100%|█████████████████████████████████████████████████████████████████████████████████████████████████████████████████████████████████████████████████████████████████████████| 8/8 [00:06<00:00,  1.22it/s]\n",
      "Creating distance matrix: 100%|████████████████████████████████████████████████████████████████████████████████████████████████████████████████████████████████████████████| 11/11 [00:00<00:00, 520.64it/s]\n",
      "Processing possible near duplicates: 100%|█████████████████████████████████████████████████████████████████████████████████████████████████████████████████████████████████| 52/52 [00:00<00:00, 102.61it/s]\n",
      "Processing possible irrelevant samples: 2039it [00:00, 39924.12it/s]\n",
      "/home/fabian/Documents/_git/GitHub/digital-dermatology/SelfClean/examples/../src/cleaner/label_errors/intra_extra_distance_mixin.py:30: RuntimeWarning: invalid value encountered in multiply\n",
      "  min_same = np.nanmin((o_hot_same * self.distance_matrix), axis=-1)\n",
      "/home/fabian/Documents/_git/GitHub/digital-dermatology/SelfClean/examples/../src/cleaner/label_errors/intra_extra_distance_mixin.py:31: RuntimeWarning: invalid value encountered in multiply\n",
      "  min_diff = np.nanmin((o_hot_diff * self.distance_matrix), axis=-1)\n"
     ]
    }
   ],
   "source": [
    "selfclean = SelfClean()\n",
    "out_dict = selfclean.run_on_dataset(\n",
    "    dataset=dataset,\n",
    "    pretraining_type=PretrainingType.DINO,\n",
    "    num_workers=10,\n",
    ")"
   ]
  },
  {
   "cell_type": "code",
   "execution_count": 8,
   "id": "87a1608f",
   "metadata": {},
   "outputs": [
    {
     "data": {
      "text/plain": [
       "{'irrelevants': {'indices': array([207, 104, 449, ..., 898, 537, 628]),\n",
       "  'scores': array([0.92241525, 0.92565718, 0.94551118, ..., 0.9879522 , 0.9879522 ,\n",
       "         0.9879522 ])},\n",
       " 'near_duplicates': {'indices': array([[ 41, 474],\n",
       "         [456, 890],\n",
       "         [253, 435],\n",
       "         ...,\n",
       "         [144, 753],\n",
       "         [404, 753],\n",
       "         [156, 753]], dtype=int32),\n",
       "  'scores': array([4.6694448e-04, 4.8342266e-04, 7.6659251e-04, ..., 8.3393097e-01,\n",
       "         8.3463347e-01, 8.5160631e-01], dtype=float32)},\n",
       " 'label_errors': {'indices': array([331, 421, 942, ..., 206, 546, 540]),\n",
       "  'scores': array([2.92874383e-04, 4.69011206e-04, 4.83882883e-04, ...,\n",
       "         8.97479150e-01, 9.27146356e-01, 9.41742379e-01])}}"
      ]
     },
     "execution_count": 8,
     "metadata": {},
     "output_type": "execute_result"
    }
   ],
   "source": [
    "out_dict"
   ]
  },
  {
   "cell_type": "code",
   "execution_count": null,
   "id": "9eb0dfd9",
   "metadata": {},
   "outputs": [],
   "source": []
  }
 ],
 "metadata": {
  "kernelspec": {
   "display_name": "Python 3 (ipykernel)",
   "language": "python",
   "name": "python3"
  },
  "language_info": {
   "codemirror_mode": {
    "name": "ipython",
    "version": 3
   },
   "file_extension": ".py",
   "mimetype": "text/x-python",
   "name": "python",
   "nbconvert_exporter": "python",
   "pygments_lexer": "ipython3",
   "version": "3.9.18"
  }
 },
 "nbformat": 4,
 "nbformat_minor": 5
}
