{
 "cells": [
  {
   "cell_type": "markdown",
   "id": "d3409044",
   "metadata": {},
   "source": [
    "# Investigate the Quality of Flower102"
   ]
  },
  {
   "cell_type": "code",
   "execution_count": 1,
   "id": "bb586111",
   "metadata": {},
   "outputs": [],
   "source": [
    "#!pip install torch==2.0.0 torchvision scienceplots einops torchinfo randomname seaborn -q"
   ]
  },
  {
   "cell_type": "code",
   "execution_count": 2,
   "id": "493f418a",
   "metadata": {},
   "outputs": [],
   "source": [
    "import torch\n",
    "from torchvision import datasets\n",
    "\n",
    "# TODO: replace with package after public on PyPi\n",
    "import sys\n",
    "\n",
    "sys.path.append(\"../\")\n",
    "\n",
    "from src.cleaner.selfclean import PretrainingType, SelfClean"
   ]
  },
  {
   "cell_type": "code",
   "execution_count": 3,
   "id": "cbd9fb72",
   "metadata": {},
   "outputs": [],
   "source": [
    "dataset_splits = []\n",
    "for split in ['train', 'val', 'test']:\n",
    "    dataset_splits.append(datasets.Flowers102(root='./tmp', download=True, split=split))\n",
    "dataset = torch.utils.data.ConcatDataset(dataset_splits)"
   ]
  },
  {
   "cell_type": "code",
   "execution_count": null,
   "id": "9f7d6306",
   "metadata": {
    "scrolled": false
   },
   "outputs": [
    {
     "name": "stdout",
     "output_type": "stream",
     "text": [
      "Will run the code on one GPU.\n",
      "STARTUP | distributed init (rank 0): env://\n",
      "Running on: cuda\n",
      "Run directory of model: /home/fabian/Documents/_git/GitHub/digital-dermatology/SelfClean/examples/DINO-ConcatDataset-chewy-jamb\n",
      "Data loaded: there are 8189 train images, 512 batches, and a batch size of 16.\n",
      "Single GPU detected, model will run on single instance.\n",
      "Single GPU detected, model will run on single instance.\n",
      "Student and Teacher are built: they are both vit_tiny network.\n"
     ]
    },
    {
     "name": "stderr",
     "output_type": "stream",
     "text": [
      "Epoch: 2, Train loss: 7.862462, Train stud/teach acc: 0.1875:   1%|█▌                                                                                                                                                      | 1/100 [08:31<8:50:55, 321.77s/it]"
     ]
    }
   ],
   "source": [
    "selfclean = SelfClean(\n",
    "    auto_cleaning=True,\n",
    "    plot_distribution=True,\n",
    "    plot_top_N=7,\n",
    ")\n",
    "out_dict = selfclean.run_on_dataset(\n",
    "    dataset=dataset,\n",
    "    pretraining_type=PretrainingType.DINO,\n",
    "    num_workers=24,\n",
    "    epochs=100,\n",
    "    batch_size=16,\n",
    ")"
   ]
  },
  {
   "cell_type": "code",
   "execution_count": null,
   "id": "93f90d6f",
   "metadata": {},
   "outputs": [],
   "source": []
  }
 ],
 "metadata": {
  "kernelspec": {
   "display_name": "Python 3 (ipykernel)",
   "language": "python",
   "name": "python3"
  },
  "language_info": {
   "codemirror_mode": {
    "name": "ipython",
    "version": 3
   },
   "file_extension": ".py",
   "mimetype": "text/x-python",
   "name": "python",
   "nbconvert_exporter": "python",
   "pygments_lexer": "ipython3",
   "version": "3.9.18"
  }
 },
 "nbformat": 4,
 "nbformat_minor": 5
}
